{
 "cells": [
  {
   "cell_type": "markdown",
   "metadata": {},
   "source": [
    "## 6.2 树的定义"
   ]
  },
  {
   "cell_type": "markdown",
   "metadata": {},
   "source": [
    "树： 树是n(n >= 0)个结点的有限集。n = 0时称为空树。在任意一棵非空树中：（1）有且仅有一个特定的成为根的结点；（2）当 n > 1时，其余结点可分为 m (m > 0) 个互不相交的有限集T1、T2、... 、Tm，其中每一个集合本身又是一棵树，并且称为根的子树(SubTree)。"
   ]
  },
  {
   "cell_type": "markdown",
   "metadata": {},
   "source": [
    "### 6.2.1 结点分类"
   ]
  },
  {
   "cell_type": "markdown",
   "metadata": {},
   "source": [
    "结点拥有的子树数量称为节点的度（Degree）。度为0的结点称为叶节点（Leaf）或终端节点；度不为0的结点称为非终端结点或分支结点。除根结点外，分支结点也成为内部结点。树的度是树内各节结点的度的最大值。"
   ]
  },
  {
   "cell_type": "markdown",
   "metadata": {},
   "source": [
    "![树](./树.png)"
   ]
  },
  {
   "cell_type": "markdown",
   "metadata": {},
   "source": [
    "如上图，因为这棵树结点的度最大值是结点D 的度，为3，所以树的度也为3."
   ]
  },
  {
   "cell_type": "code",
   "execution_count": null,
   "metadata": {},
   "outputs": [],
   "source": []
  }
 ],
 "metadata": {
  "kernelspec": {
   "display_name": "Python 3",
   "language": "python",
   "name": "python3"
  },
  "language_info": {
   "codemirror_mode": {
    "name": "ipython",
    "version": 3
   },
   "file_extension": ".py",
   "mimetype": "text/x-python",
   "name": "python",
   "nbconvert_exporter": "python",
   "pygments_lexer": "ipython3",
   "version": "3.6.5"
  }
 },
 "nbformat": 4,
 "nbformat_minor": 2
}
