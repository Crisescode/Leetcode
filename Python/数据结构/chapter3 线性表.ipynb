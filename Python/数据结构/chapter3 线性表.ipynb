{
 "cells": [
  {
   "cell_type": "markdown",
   "metadata": {},
   "source": [
    "## 3.2 线性表的定义"
   ]
  },
  {
   "cell_type": "markdown",
   "metadata": {},
   "source": [
    "**线性表（List）：** 零个或多个数据元素的有限序列。"
   ]
  },
  {
   "cell_type": "markdown",
   "metadata": {},
   "source": [
    "首先线性表是一个序列，元素之间有顺序，且第一个元素无前驱，最后一个元素无后继，其他每个元素都有且只有一个前驱和后继。"
   ]
  },
  {
   "cell_type": "markdown",
   "metadata": {},
   "source": [
    "**线性表的长度：** 线性表中元素的个数n（n >= 0）定义为线性表的长度，当n = 0时，称为空表。"
   ]
  },
  {
   "cell_type": "markdown",
   "metadata": {},
   "source": [
    "## 3.3 线性表的抽象数据类型"
   ]
  },
  {
   "cell_type": "markdown",
   "metadata": {},
   "source": [
    "## 3.4 线性表的顺序存储结构"
   ]
  },
  {
   "cell_type": "markdown",
   "metadata": {},
   "source": [
    "### 3.4.1 顺序存储定义"
   ]
  },
  {
   "cell_type": "markdown",
   "metadata": {},
   "source": [
    "线性表的顺序存储结构，指的是用一段地址连续的存储单元依次存储线性表的数据元素。"
   ]
  },
  {
   "cell_type": "markdown",
   "metadata": {},
   "source": [
    "## 3.5 顺序存储结构的插入与删除"
   ]
  },
  {
   "cell_type": "markdown",
   "metadata": {},
   "source": [
    "## 3.6 线性表的链式存储结构"
   ]
  },
  {
   "cell_type": "markdown",
   "metadata": {},
   "source": [
    "### 3.6.1 顺序存储结构不足的解决方法"
   ]
  },
  {
   "cell_type": "markdown",
   "metadata": {},
   "source": [
    "前面讲的线性表顺序存储结构有一定的缺点，最大的缺点是插入和删除时需要移动大量元素，这显然就需要耗费时间。"
   ]
  },
  {
   "cell_type": "markdown",
   "metadata": {},
   "source": [
    "为什么当插入和删除时，需要移动大量元素？主要原因是在于相邻两元素的存储位置也具有邻居关系，它们在内存中的位置也是紧挨着的，中间没有间隙，因此无法快速介入；而删除后，当中就会留出空隙，因此需要弥补。"
   ]
  },
  {
   "cell_type": "markdown",
   "metadata": {},
   "source": [
    "**解决方法：** 运用线性表的链式存储结构来解决以上问题，以前在顺序结构中，每个数据元素只需要存数据元素信息就可以。而链式存储结构，除了存数据元素信息之外，还要存储它的后继元素的存储地址。"
   ]
  },
  {
   "cell_type": "markdown",
   "metadata": {},
   "source": [
    "## 3.7 单链表的操作（遍历、插入、删除）"
   ]
  },
  {
   "cell_type": "code",
   "execution_count": 1,
   "metadata": {},
   "outputs": [],
   "source": [
    "# Definition for single-linked list.\n",
    "class ListNode(object):\n",
    "    def __init__(self, x, next_=None):\n",
    "        self.val = x\n",
    "        self.next = None"
   ]
  },
  {
   "cell_type": "code",
   "execution_count": 59,
   "metadata": {},
   "outputs": [],
   "source": [
    "class SingleLinkList(object):\n",
    "    def __init__(self, node=None):\n",
    "        self.__head = node\n",
    "        \n",
    "    def is_empty(self):\n",
    "        return self.__head == None\n",
    "    \n",
    "    def length(self):\n",
    "        cur = self.__head\n",
    "        \n",
    "        count = 0\n",
    "        while cur != None:\n",
    "            count += 1\n",
    "            cur = cur.next\n",
    "        \n",
    "        return count\n",
    "    \n",
    "    def travel(self):\n",
    "        cur = self.__head\n",
    "        while cur != None:\n",
    "            print(cur.val, end=\" \")\n",
    "            cur = cur.next\n",
    "            \n",
    "        print(\"\\n\")\n",
    "        \n",
    "    def add(self, value):\n",
    "        node = ListNode(value)\n",
    "        node.next = self.__head\n",
    "        self.__head = node\n",
    "    \n",
    "    def append(self, value):\n",
    "        node = ListNode(value)\n",
    "        \n",
    "        if self.is_empty():\n",
    "            self.__head = node\n",
    "        else:\n",
    "            cur = self.__head\n",
    "            while cur.next != None:\n",
    "                cur = cur.next\n",
    "            cur.next = node\n",
    "    \n",
    "    def insert(self, pos, value):\n",
    "        if pos <= 0:\n",
    "            self.add(value)\n",
    "        elif pos > self.length() - 1:\n",
    "            self.append(value)\n",
    "        else:\n",
    "            per = self.__head\n",
    "            count = 0\n",
    "            while count < pos - 1:\n",
    "                count += 1\n",
    "                per = per.next\n",
    "            \n",
    "            node = Node(value)\n",
    "            node.next = per.next\n",
    "            per.next = node\n",
    "            \n",
    "    \n",
    "    def remove(self, value):\n",
    "        cur = self.__head\n",
    "        per = None\n",
    "        while cur != None:\n",
    "            if cur.val == value:\n",
    "                if cur == self.__head:\n",
    "                    self.__head = cur.next\n",
    "                else:\n",
    "                    per.next = cur.next\n",
    "                break\n",
    "            else:\n",
    "                per = cur\n",
    "                cur = cur.next\n",
    "    \n",
    "    def search(self, value):\n",
    "        cur = self.__head\n",
    "        while cur != None:\n",
    "            if cur.val == value:\n",
    "                return True\n",
    "            else:\n",
    "                cur = cur.next\n",
    "                \n",
    "        return False"
   ]
  },
  {
   "cell_type": "code",
   "execution_count": 60,
   "metadata": {},
   "outputs": [],
   "source": [
    "link_list = SingleLinkList()"
   ]
  },
  {
   "cell_type": "code",
   "execution_count": 62,
   "metadata": {},
   "outputs": [
    {
     "data": {
      "text/plain": [
       "True"
      ]
     },
     "execution_count": 62,
     "metadata": {},
     "output_type": "execute_result"
    }
   ],
   "source": [
    "link_list.is_empty()"
   ]
  },
  {
   "cell_type": "code",
   "execution_count": 63,
   "metadata": {},
   "outputs": [],
   "source": [
    "link_list.append(10)"
   ]
  },
  {
   "cell_type": "code",
   "execution_count": 64,
   "metadata": {},
   "outputs": [
    {
     "data": {
      "text/plain": [
       "1"
      ]
     },
     "execution_count": 64,
     "metadata": {},
     "output_type": "execute_result"
    }
   ],
   "source": [
    "link_list.length()"
   ]
  },
  {
   "cell_type": "code",
   "execution_count": 65,
   "metadata": {},
   "outputs": [],
   "source": [
    "link_list.append(12)"
   ]
  },
  {
   "cell_type": "code",
   "execution_count": 66,
   "metadata": {},
   "outputs": [],
   "source": [
    "link_list.add(20)"
   ]
  },
  {
   "cell_type": "code",
   "execution_count": 67,
   "metadata": {},
   "outputs": [
    {
     "name": "stdout",
     "output_type": "stream",
     "text": [
      "20 10 12 \n",
      "\n"
     ]
    }
   ],
   "source": [
    "link_list.travel()"
   ]
  },
  {
   "cell_type": "code",
   "execution_count": 68,
   "metadata": {},
   "outputs": [
    {
     "data": {
      "text/plain": [
       "True"
      ]
     },
     "execution_count": 68,
     "metadata": {},
     "output_type": "execute_result"
    }
   ],
   "source": [
    "link_list.search(12)"
   ]
  },
  {
   "cell_type": "code",
   "execution_count": 69,
   "metadata": {},
   "outputs": [],
   "source": [
    "link_list1 = SingleLinkList()"
   ]
  },
  {
   "cell_type": "code",
   "execution_count": 71,
   "metadata": {},
   "outputs": [
    {
     "data": {
      "text/plain": [
       "False"
      ]
     },
     "execution_count": 71,
     "metadata": {},
     "output_type": "execute_result"
    }
   ],
   "source": [
    "link_list1.search(10)"
   ]
  },
  {
   "cell_type": "code",
   "execution_count": 74,
   "metadata": {},
   "outputs": [
    {
     "name": "stdout",
     "output_type": "stream",
     "text": [
      "10 12 \n",
      "\n"
     ]
    }
   ],
   "source": [
    "link_list.remove(20)\n",
    "link_list.travel()"
   ]
  },
  {
   "cell_type": "markdown",
   "metadata": {},
   "source": [
    "## 3.9 单链表的整表创建"
   ]
  },
  {
   "cell_type": "markdown",
   "metadata": {},
   "source": [
    "## 3.11 单链表结构与顺序存储结构对比"
   ]
  },
  {
   "cell_type": "code",
   "execution_count": null,
   "metadata": {},
   "outputs": [],
   "source": []
  }
 ],
 "metadata": {
  "kernelspec": {
   "display_name": "Python 3",
   "language": "python",
   "name": "python3"
  },
  "language_info": {
   "codemirror_mode": {
    "name": "ipython",
    "version": 3
   },
   "file_extension": ".py",
   "mimetype": "text/x-python",
   "name": "python",
   "nbconvert_exporter": "python",
   "pygments_lexer": "ipython3",
   "version": "3.6.5"
  }
 },
 "nbformat": 4,
 "nbformat_minor": 2
}
